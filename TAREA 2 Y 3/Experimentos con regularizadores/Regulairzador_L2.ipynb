{
  "nbformat": 4,
  "nbformat_minor": 0,
  "metadata": {
    "colab": {
      "provenance": []
    },
    "kernelspec": {
      "name": "python3",
      "display_name": "Python 3"
    },
    "language_info": {
      "name": "python"
    }
  },
  "cells": [
    {
      "cell_type": "code",
      "execution_count": 1,
      "metadata": {
        "colab": {
          "base_uri": "https://localhost:8080/"
        },
        "id": "dveY9uguvPnN",
        "outputId": "21f3a070-f6f7-40b5-db46-dad58ef68fc7"
      },
      "outputs": [
        {
          "output_type": "stream",
          "name": "stdout",
          "text": [
            "Downloading data from https://storage.googleapis.com/tensorflow/tf-keras-datasets/mnist.npz\n",
            "11490434/11490434 [==============================] - 0s 0us/step\n"
          ]
        }
      ],
      "source": [
        "import tensorflow as tf\n",
        "from tensorflow import keras as keras\n",
        "from keras.datasets import mnist\n",
        "from keras.models import Sequential\n",
        "from keras.layers import Dense, Dropout, Activation\n",
        "from keras. optimizers import Adam, RMSprop, SGD\n",
        "from keras.regularizers import L1, L2, L1L2\n",
        "import numpy as np\n",
        "import matplotlib.pyplot as plt\n",
        "from keras.callbacks import History\n",
        "from tensorflow.keras import regularizers\n",
        "\n",
        "dataset= mnist.load_data()\n",
        "(x_train, y_train), (x_test,y_test) = dataset #Son las variables separadas de los datos de entrenamiento y pruebas\n",
        "\n",
        "#Ahora aplanamos las imágenes y convertimos en punto flotante\n",
        "x_train = x_train.reshape(60000,784)\n",
        "x_test = x_test.reshape(10000,784)\n",
        "x_trainv = x_train.astype('float32')\n",
        "x_testv = x_test.astype('float32')\n",
        "\n",
        "lr = 0.001  #learning rate\n",
        "num_clases = 10\n",
        "y_trainc = keras.utils.to_categorical(y_train, num_clases)\n",
        "y_testc = keras.utils.to_categorical(y_test, num_clases)"
      ]
    },
    {
      "cell_type": "code",
      "source": [
        "expL2 = Sequential()\n",
        "expL2.add(Dense(512, activation='sigmoid', input_shape=(784,), kernel_regularizer=regularizers.L2(l2=0.01)),)\n",
        "expL2.add(Dense(10, activation=\"softmax\"))\n",
        "\n",
        "expL2.summary()\n",
        "\n",
        "expL2.compile(loss='categorical_crossentropy',optimizer=Adam(learning_rate=1e-4),metrics=['accuracy'])\n",
        "history = expL2.fit(x_trainv, y_trainc, batch_size = 10, epochs = 10, validation_data = (x_testv, y_testc))"
      ],
      "metadata": {
        "colab": {
          "base_uri": "https://localhost:8080/"
        },
        "id": "W2AePZicvUxC",
        "outputId": "787b90a1-0a60-4cc6-d9d1-bcf527413a04"
      },
      "execution_count": 3,
      "outputs": [
        {
          "output_type": "stream",
          "name": "stdout",
          "text": [
            "Model: \"sequential\"\n",
            "_________________________________________________________________\n",
            " Layer (type)                Output Shape              Param #   \n",
            "=================================================================\n",
            " dense (Dense)               (None, 512)               401920    \n",
            "                                                                 \n",
            " dense_1 (Dense)             (None, 10)                5130      \n",
            "                                                                 \n",
            "=================================================================\n",
            "Total params: 407050 (1.55 MB)\n",
            "Trainable params: 407050 (1.55 MB)\n",
            "Non-trainable params: 0 (0.00 Byte)\n",
            "_________________________________________________________________\n",
            "Epoch 1/10\n",
            "6000/6000 [==============================] - 46s 7ms/step - loss: 2.5919 - accuracy: 0.8745 - val_loss: 1.4549 - val_accuracy: 0.9283\n",
            "Epoch 2/10\n",
            "6000/6000 [==============================] - 37s 6ms/step - loss: 1.0593 - accuracy: 0.9359 - val_loss: 0.7639 - val_accuracy: 0.9429\n",
            "Epoch 3/10\n",
            "6000/6000 [==============================] - 39s 7ms/step - loss: 0.6158 - accuracy: 0.9467 - val_loss: 0.4940 - val_accuracy: 0.9529\n",
            "Epoch 4/10\n",
            "6000/6000 [==============================] - 37s 6ms/step - loss: 0.4305 - accuracy: 0.9518 - val_loss: 0.3805 - val_accuracy: 0.9557\n",
            "Epoch 5/10\n",
            "6000/6000 [==============================] - 35s 6ms/step - loss: 0.3437 - accuracy: 0.9553 - val_loss: 0.3205 - val_accuracy: 0.9568\n",
            "Epoch 6/10\n",
            "6000/6000 [==============================] - 37s 6ms/step - loss: 0.3037 - accuracy: 0.9563 - val_loss: 0.2898 - val_accuracy: 0.9576\n",
            "Epoch 7/10\n",
            "6000/6000 [==============================] - 37s 6ms/step - loss: 0.2789 - accuracy: 0.9577 - val_loss: 0.2652 - val_accuracy: 0.9605\n",
            "Epoch 8/10\n",
            "6000/6000 [==============================] - 39s 6ms/step - loss: 0.2672 - accuracy: 0.9587 - val_loss: 0.2635 - val_accuracy: 0.9584\n",
            "Epoch 9/10\n",
            "6000/6000 [==============================] - 37s 6ms/step - loss: 0.2603 - accuracy: 0.9595 - val_loss: 0.2560 - val_accuracy: 0.9596\n",
            "Epoch 10/10\n",
            "6000/6000 [==============================] - 36s 6ms/step - loss: 0.2540 - accuracy: 0.9604 - val_loss: 0.2668 - val_accuracy: 0.9567\n"
          ]
        }
      ]
    },
    {
      "cell_type": "code",
      "source": [
        "# Gráfica de pérdida-epoca del experimento 4\n",
        "plt.xlabel(\"# Epoca\")\n",
        "plt.ylabel(\"Perdida\")\n",
        "plt.plot(history.history[\"loss\"])"
      ],
      "metadata": {
        "colab": {
          "base_uri": "https://localhost:8080/",
          "height": 466
        },
        "id": "ede7NNeIvw0R",
        "outputId": "9223b789-1641-46aa-f6be-ae286a6d83ca"
      },
      "execution_count": 4,
      "outputs": [
        {
          "output_type": "execute_result",
          "data": {
            "text/plain": [
              "[<matplotlib.lines.Line2D at 0x7c5d3476c490>]"
            ]
          },
          "metadata": {},
          "execution_count": 4
        },
        {
          "output_type": "display_data",
          "data": {
            "text/plain": [
              "<Figure size 640x480 with 1 Axes>"
            ],
            "image/png": "[encoded data removed]"
          },
          "metadata": {}
        }
      ]
    },
    {
      "cell_type": "code",
      "source": [
        "import matplotlib.pyplot as plt\n",
        "image = x_train[5].reshape((28, 28))\n",
        "plt.figure()\n",
        "plt.imshow(image, cmap=\"gray\")#número de imagen en el mnist\n",
        "plt.colorbar()\n",
        "plt.grid(False)\n",
        "plt.show()"
      ],
      "metadata": {
        "colab": {
          "base_uri": "https://localhost:8080/",
          "height": 430
        },
        "id": "eeGOKrFkvzJQ",
        "outputId": "c1139d0a-4b31-4354-bcd6-25f24c0b082b"
      },
      "execution_count": 5,
      "outputs": [
        {
          "output_type": "display_data",
          "data": {
            "text/plain": [
              "<Figure size 640x480 with 2 Axes>"
            ],
            "image/png": "[encoded data removed]"
          },
          "metadata": {}
        }
      ]
    },
    {
      "cell_type": "code",
      "source": [
        "score = expL2.evaluate(x_testv, y_testc, verbose=1) #evaluar la eficiencia del modelo\n",
        "print(score)\n",
        "a=expL2.predict(x_testv) #predicción de la red entrenada\n",
        "print(a.shape)\n",
        "print(a[1])\n",
        "print(\"resultado correcto:\")\n",
        "print(y_testc[1])     #si sale :)"
      ],
      "metadata": {
        "colab": {
          "base_uri": "https://localhost:8080/"
        },
        "id": "HUWoDGr-v1a3",
        "outputId": "6ca7aee7-8260-40f5-9f0f-67a12f68253a"
      },
      "execution_count": 6,
      "outputs": [
        {
          "output_type": "stream",
          "name": "stdout",
          "text": [
            "313/313 [==============================] - 1s 2ms/step - loss: 0.2668 - accuracy: 0.9567\n",
            "[0.26680657267570496, 0.9567000269889832]\n",
            "313/313 [==============================] - 1s 3ms/step\n",
            "(10000, 10)\n",
            "[2.9851960e-03 5.8755378e-04 8.8132018e-01 1.0428372e-01 2.8559755e-06\n",
            " 6.1762333e-03 2.9690410e-03 1.5481032e-06 1.6695076e-03 3.9703814e-06]\n",
            "resultado correcto:\n",
            "[0. 0. 1. 0. 0. 0. 0. 0. 0. 0.]\n"
          ]
        }
      ]
    }
  ]
}