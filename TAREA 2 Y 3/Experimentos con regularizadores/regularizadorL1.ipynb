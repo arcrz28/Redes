{
  "nbformat": 4,
  "nbformat_minor": 0,
  "metadata": {
    "colab": {
      "provenance": []
    },
    "kernelspec": {
      "name": "python3",
      "display_name": "Python 3"
    },
    "language_info": {
      "name": "python"
    }
  },
  "cells": [
    {
      "cell_type": "code",
      "execution_count": 5,
      "metadata": {
        "id": "r78JsDHQuP47"
      },
      "outputs": [],
      "source": [
        "import tensorflow as tf\n",
        "from tensorflow import keras as keras\n",
        "from keras.datasets import mnist\n",
        "from keras.models import Sequential\n",
        "from keras.layers import Dense, Dropout, Activation\n",
        "from keras. optimizers import Adam, RMSprop, SGD\n",
        "from keras.regularizers import L1, L2, L1L2\n",
        "import numpy as np\n",
        "import matplotlib.pyplot as plt\n",
        "from keras.callbacks import History\n",
        "from tensorflow.keras import regularizers\n",
        "\n",
        "dataset= mnist.load_data()\n",
        "(x_train, y_train), (x_test,y_test) = dataset #Son las variables separadas de los datos de entrenamiento y pruebas\n",
        "\n",
        "#Ahora aplanamos las imágenes y convertimos en punto flotante\n",
        "x_train = x_train.reshape(60000,784)\n",
        "x_test = x_test.reshape(10000,784)\n",
        "x_trainv = x_train.astype('float32')\n",
        "x_testv = x_test.astype('float32')\n",
        "\n",
        "lr = 0.001  #learning rate\n",
        "num_clases = 10\n",
        "y_trainc = keras.utils.to_categorical(y_train, num_clases)\n",
        "y_testc = keras.utils.to_categorical(y_test, num_clases)\n"
      ]
    },
    {
      "cell_type": "code",
      "source": [
        "expL1 = Sequential()\n",
        "expL1.add(Dense(512, activation='sigmoid', input_shape=(784,), kernel_regularizer=regularizers.L1(l1=0.01)),)\n",
        "expL1.add(Dense(10, activation=\"softmax\"))\n",
        "\n",
        "expL1.summary()\n",
        "\n",
        "expL1.compile(loss='categorical_crossentropy',optimizer=Adam(learning_rate=1e-4),metrics=['accuracy'])\n",
        "history = expL1.fit(x_trainv, y_trainc, batch_size = 10, epochs = 10, validation_data = (x_testv, y_testc))\n"
      ],
      "metadata": {
        "colab": {
          "base_uri": "https://localhost:8080/"
        },
        "id": "5-bXA3a4uzyF",
        "outputId": "7e4d679c-fe79-45c4-be73-dd031ae55429"
      },
      "execution_count": 6,
      "outputs": [
        {
          "output_type": "stream",
          "name": "stdout",
          "text": [
            "Model: \"sequential_1\"\n",
            "_________________________________________________________________\n",
            " Layer (type)                Output Shape              Param #   \n",
            "=================================================================\n",
            " dense (Dense)               (None, 512)               401920    \n",
            "                                                                 \n",
            " dense_1 (Dense)             (None, 10)                5130      \n",
            "                                                                 \n",
            "=================================================================\n",
            "Total params: 407050 (1.55 MB)\n",
            "Trainable params: 407050 (1.55 MB)\n",
            "Non-trainable params: 0 (0.00 Byte)\n",
            "_________________________________________________________________\n",
            "Epoch 1/10\n",
            "6000/6000 [==============================] - 47s 8ms/step - loss: 14.9456 - accuracy: 0.8463 - val_loss: 1.5267 - val_accuracy: 0.8846\n",
            "Epoch 2/10\n",
            "6000/6000 [==============================] - 46s 8ms/step - loss: 1.4282 - accuracy: 0.8839 - val_loss: 1.3358 - val_accuracy: 0.8777\n",
            "Epoch 3/10\n",
            "6000/6000 [==============================] - 45s 8ms/step - loss: 1.3347 - accuracy: 0.8941 - val_loss: 1.2548 - val_accuracy: 0.9140\n",
            "Epoch 4/10\n",
            "6000/6000 [==============================] - 46s 8ms/step - loss: 1.2898 - accuracy: 0.8999 - val_loss: 1.2431 - val_accuracy: 0.9163\n",
            "Epoch 5/10\n",
            "6000/6000 [==============================] - 47s 8ms/step - loss: 1.2609 - accuracy: 0.9041 - val_loss: 1.1945 - val_accuracy: 0.9160\n",
            "Epoch 6/10\n",
            "6000/6000 [==============================] - 47s 8ms/step - loss: 1.2135 - accuracy: 0.9072 - val_loss: 1.1597 - val_accuracy: 0.9170\n",
            "Epoch 7/10\n",
            "6000/6000 [==============================] - 48s 8ms/step - loss: 1.1798 - accuracy: 0.9084 - val_loss: 1.1754 - val_accuracy: 0.9136\n",
            "Epoch 8/10\n",
            "6000/6000 [==============================] - 51s 9ms/step - loss: 1.1391 - accuracy: 0.9117 - val_loss: 1.1367 - val_accuracy: 0.9124\n",
            "Epoch 9/10\n",
            "6000/6000 [==============================] - 46s 8ms/step - loss: 1.1080 - accuracy: 0.9128 - val_loss: 1.1007 - val_accuracy: 0.9103\n",
            "Epoch 10/10\n",
            "6000/6000 [==============================] - 46s 8ms/step - loss: 1.0819 - accuracy: 0.9142 - val_loss: 1.0736 - val_accuracy: 0.9239\n"
          ]
        }
      ]
    },
    {
      "cell_type": "code",
      "source": [
        "# Gráfica de pérdida-epoca del experimento 4\n",
        "plt.xlabel(\"# Epoca\")\n",
        "plt.ylabel(\"Perdida\")\n",
        "plt.plot(history.history[\"loss\"])"
      ],
      "metadata": {
        "colab": {
          "base_uri": "https://localhost:8080/",
          "height": 466
        },
        "id": "L0DlPycbvg-p",
        "outputId": "3d2d975f-6a8d-4393-85ab-677be312ee78"
      },
      "execution_count": 7,
      "outputs": [
        {
          "output_type": "execute_result",
          "data": {
            "text/plain": [
              "[<matplotlib.lines.Line2D at 0x7ee768273250>]"
            ]
          },
          "metadata": {},
          "execution_count": 7
        },
        {
          "output_type": "display_data",
          "data": {
            "text/plain": [
              "<Figure size 640x480 with 1 Axes>"
            ],
            "image/png": "[encoded data removed]"
          },
          "metadata": {}
        }
      ]
    },
    {
      "cell_type": "code",
      "source": [
        "import matplotlib.pyplot as plt\n",
        "image = x_train[5].reshape((28, 28))\n",
        "plt.figure()\n",
        "plt.imshow(image, cmap=\"gray\")#número de imagen en el mnist\n",
        "plt.colorbar()\n",
        "plt.grid(False)\n",
        "plt.show()\n"
      ],
      "metadata": {
        "colab": {
          "base_uri": "https://localhost:8080/",
          "height": 430
        },
        "id": "GKsXvCGmvkFE",
        "outputId": "8b3ebc09-b8bc-430b-8d15-c8b260d85bee"
      },
      "execution_count": 8,
      "outputs": [
        {
          "output_type": "display_data",
          "data": {
            "text/plain": [
              "<Figure size 640x480 with 2 Axes>"
            ],
            "image/png": "[encoded data removed]"
          },
          "metadata": {}
        }
      ]
    },
    {
      "cell_type": "code",
      "source": [
        "\n",
        "score = expL1.evaluate(x_testv, y_testc, verbose=1) #evaluar la eficiencia del modelo\n",
        "print(score)\n",
        "a=expL1.predict(x_testv) #predicción de la red entrenada\n",
        "print(a.shape)\n",
        "print(a[1])\n",
        "print(\"resultado correcto:\")\n",
        "print(y_testc[1])     #si sale :)\n"
      ],
      "metadata": {
        "colab": {
          "base_uri": "https://localhost:8080/"
        },
        "id": "ozdfJDEuvlpk",
        "outputId": "5c2928a2-b748-487a-934f-0f4510e3d5e2"
      },
      "execution_count": 9,
      "outputs": [
        {
          "output_type": "stream",
          "name": "stdout",
          "text": [
            "313/313 [==============================] - 2s 4ms/step - loss: 1.0736 - accuracy: 0.9239\n",
            "[1.0735613107681274, 0.9239000082015991]\n",
            "313/313 [==============================] - 1s 3ms/step\n",
            "(10000, 10)\n",
            "[0.02257002 0.01175247 0.31733084 0.31279144 0.00035125 0.02137311\n",
            " 0.2944077  0.00046442 0.01813423 0.00082454]\n",
            "resultado correcto:\n",
            "[0. 0. 1. 0. 0. 0. 0. 0. 0. 0.]\n"
          ]
        }
      ]
    }
  ]
}