{
  "nbformat": 4,
  "nbformat_minor": 0,
  "metadata": {
    "colab": {
      "provenance": []
    },
    "kernelspec": {
      "name": "python3",
      "display_name": "Python 3"
    },
    "language_info": {
      "name": "python"
    }
  },
  "cells": [
    {
      "cell_type": "code",
      "execution_count": 2,
      "metadata": {
        "colab": {
          "base_uri": "https://localhost:8080/"
        },
        "id": "MAHt0XJrs4LF",
        "outputId": "db0e3525-8978-4630-d9a9-28e433ade615"
      },
      "outputs": [
        {
          "output_type": "stream",
          "name": "stdout",
          "text": [
            "Downloading data from https://storage.googleapis.com/tensorflow/tf-keras-datasets/mnist.npz\n",
            "11490434/11490434 [==============================] - 0s 0us/step\n",
            "Epoch 1/55\n",
            "6000/6000 [==============================] - 40s 6ms/step - loss: 0.4614 - accuracy: 0.8773 - val_loss: 0.2674 - val_accuracy: 0.9248\n",
            "Epoch 2/55\n",
            "6000/6000 [==============================] - 38s 6ms/step - loss: 0.2382 - accuracy: 0.9329 - val_loss: 0.2095 - val_accuracy: 0.9388\n",
            "Epoch 3/55\n",
            "6000/6000 [==============================] - 50s 8ms/step - loss: 0.1922 - accuracy: 0.9452 - val_loss: 0.1849 - val_accuracy: 0.9462\n",
            "Epoch 4/55\n",
            "6000/6000 [==============================] - 40s 7ms/step - loss: 0.1662 - accuracy: 0.9522 - val_loss: 0.1593 - val_accuracy: 0.9537\n",
            "Epoch 5/55\n",
            "6000/6000 [==============================] - 36s 6ms/step - loss: 0.1478 - accuracy: 0.9577 - val_loss: 0.1497 - val_accuracy: 0.9553\n",
            "Epoch 6/55\n",
            "6000/6000 [==============================] - 37s 6ms/step - loss: 0.1339 - accuracy: 0.9614 - val_loss: 0.1397 - val_accuracy: 0.9593\n",
            "Epoch 7/55\n",
            "6000/6000 [==============================] - 45s 7ms/step - loss: 0.1225 - accuracy: 0.9649 - val_loss: 0.1373 - val_accuracy: 0.9605\n",
            "Epoch 8/55\n",
            "6000/6000 [==============================] - 41s 7ms/step - loss: 0.1118 - accuracy: 0.9676 - val_loss: 0.1280 - val_accuracy: 0.9626\n",
            "Epoch 9/55\n",
            "6000/6000 [==============================] - 36s 6ms/step - loss: 0.1055 - accuracy: 0.9694 - val_loss: 0.1176 - val_accuracy: 0.9637\n",
            "Epoch 10/55\n",
            "6000/6000 [==============================] - 39s 7ms/step - loss: 0.0993 - accuracy: 0.9707 - val_loss: 0.1170 - val_accuracy: 0.9653\n",
            "Epoch 11/55\n",
            "6000/6000 [==============================] - 38s 6ms/step - loss: 0.0930 - accuracy: 0.9734 - val_loss: 0.1121 - val_accuracy: 0.9658\n",
            "Epoch 12/55\n",
            "6000/6000 [==============================] - 37s 6ms/step - loss: 0.0893 - accuracy: 0.9743 - val_loss: 0.1091 - val_accuracy: 0.9675\n",
            "Epoch 13/55\n",
            "6000/6000 [==============================] - 38s 6ms/step - loss: 0.0841 - accuracy: 0.9757 - val_loss: 0.1064 - val_accuracy: 0.9681\n",
            "Epoch 14/55\n",
            "6000/6000 [==============================] - 37s 6ms/step - loss: 0.0803 - accuracy: 0.9765 - val_loss: 0.1039 - val_accuracy: 0.9692\n",
            "Epoch 15/55\n",
            "6000/6000 [==============================] - 37s 6ms/step - loss: 0.0757 - accuracy: 0.9779 - val_loss: 0.0969 - val_accuracy: 0.9712\n",
            "Epoch 16/55\n",
            "6000/6000 [==============================] - 35s 6ms/step - loss: 0.0724 - accuracy: 0.9785 - val_loss: 0.0969 - val_accuracy: 0.9712\n",
            "Epoch 17/55\n",
            "6000/6000 [==============================] - 36s 6ms/step - loss: 0.0714 - accuracy: 0.9792 - val_loss: 0.1027 - val_accuracy: 0.9675\n",
            "Epoch 18/55\n",
            "6000/6000 [==============================] - 37s 6ms/step - loss: 0.0698 - accuracy: 0.9792 - val_loss: 0.0970 - val_accuracy: 0.9701\n",
            "Epoch 19/55\n",
            "6000/6000 [==============================] - 38s 6ms/step - loss: 0.0656 - accuracy: 0.9811 - val_loss: 0.0936 - val_accuracy: 0.9717\n",
            "Epoch 20/55\n",
            "6000/6000 [==============================] - 36s 6ms/step - loss: 0.0636 - accuracy: 0.9816 - val_loss: 0.0970 - val_accuracy: 0.9708\n",
            "Epoch 21/55\n",
            "6000/6000 [==============================] - 36s 6ms/step - loss: 0.0596 - accuracy: 0.9826 - val_loss: 0.0914 - val_accuracy: 0.9709\n",
            "Epoch 22/55\n",
            "6000/6000 [==============================] - 37s 6ms/step - loss: 0.0582 - accuracy: 0.9828 - val_loss: 0.0936 - val_accuracy: 0.9721\n",
            "Epoch 23/55\n",
            "6000/6000 [==============================] - 36s 6ms/step - loss: 0.0564 - accuracy: 0.9835 - val_loss: 0.0949 - val_accuracy: 0.9704\n",
            "Epoch 24/55\n",
            "6000/6000 [==============================] - 37s 6ms/step - loss: 0.0562 - accuracy: 0.9835 - val_loss: 0.0927 - val_accuracy: 0.9716\n",
            "Epoch 25/55\n",
            "6000/6000 [==============================] - 37s 6ms/step - loss: 0.0539 - accuracy: 0.9842 - val_loss: 0.0907 - val_accuracy: 0.9724\n",
            "Epoch 26/55\n",
            "6000/6000 [==============================] - 36s 6ms/step - loss: 0.0513 - accuracy: 0.9847 - val_loss: 0.0872 - val_accuracy: 0.9736\n",
            "Epoch 27/55\n",
            "6000/6000 [==============================] - 37s 6ms/step - loss: 0.0512 - accuracy: 0.9841 - val_loss: 0.0899 - val_accuracy: 0.9727\n",
            "Epoch 28/55\n",
            "6000/6000 [==============================] - 37s 6ms/step - loss: 0.0499 - accuracy: 0.9851 - val_loss: 0.0902 - val_accuracy: 0.9730\n",
            "Epoch 29/55\n",
            "6000/6000 [==============================] - 36s 6ms/step - loss: 0.0494 - accuracy: 0.9857 - val_loss: 0.0892 - val_accuracy: 0.9737\n",
            "Epoch 30/55\n",
            "6000/6000 [==============================] - 49s 8ms/step - loss: 0.0483 - accuracy: 0.9856 - val_loss: 0.0898 - val_accuracy: 0.9715\n",
            "Epoch 31/55\n",
            "6000/6000 [==============================] - 37s 6ms/step - loss: 0.0465 - accuracy: 0.9865 - val_loss: 0.0896 - val_accuracy: 0.9710\n",
            "Epoch 32/55\n",
            "6000/6000 [==============================] - 36s 6ms/step - loss: 0.0466 - accuracy: 0.9860 - val_loss: 0.0883 - val_accuracy: 0.9735\n",
            "Epoch 33/55\n",
            "6000/6000 [==============================] - 38s 6ms/step - loss: 0.0445 - accuracy: 0.9873 - val_loss: 0.0849 - val_accuracy: 0.9748\n",
            "Epoch 34/55\n",
            "6000/6000 [==============================] - 37s 6ms/step - loss: 0.0427 - accuracy: 0.9873 - val_loss: 0.0887 - val_accuracy: 0.9731\n",
            "Epoch 35/55\n",
            "6000/6000 [==============================] - 36s 6ms/step - loss: 0.0415 - accuracy: 0.9877 - val_loss: 0.0872 - val_accuracy: 0.9747\n",
            "Epoch 36/55\n",
            "6000/6000 [==============================] - 39s 6ms/step - loss: 0.0413 - accuracy: 0.9880 - val_loss: 0.0858 - val_accuracy: 0.9739\n",
            "Epoch 37/55\n",
            "6000/6000 [==============================] - 37s 6ms/step - loss: 0.0401 - accuracy: 0.9882 - val_loss: 0.0811 - val_accuracy: 0.9750\n",
            "Epoch 38/55\n",
            "6000/6000 [==============================] - 36s 6ms/step - loss: 0.0403 - accuracy: 0.9876 - val_loss: 0.0851 - val_accuracy: 0.9734\n",
            "Epoch 39/55\n",
            "6000/6000 [==============================] - 37s 6ms/step - loss: 0.0400 - accuracy: 0.9880 - val_loss: 0.0864 - val_accuracy: 0.9746\n",
            "Epoch 40/55\n",
            "6000/6000 [==============================] - 38s 6ms/step - loss: 0.0389 - accuracy: 0.9886 - val_loss: 0.0837 - val_accuracy: 0.9757\n",
            "Epoch 41/55\n",
            "6000/6000 [==============================] - 36s 6ms/step - loss: 0.0376 - accuracy: 0.9883 - val_loss: 0.0832 - val_accuracy: 0.9743\n",
            "Epoch 42/55\n",
            "6000/6000 [==============================] - 37s 6ms/step - loss: 0.0361 - accuracy: 0.9894 - val_loss: 0.0815 - val_accuracy: 0.9761\n",
            "Epoch 43/55\n",
            "6000/6000 [==============================] - 37s 6ms/step - loss: 0.0351 - accuracy: 0.9899 - val_loss: 0.0810 - val_accuracy: 0.9749\n",
            "Epoch 44/55\n",
            "6000/6000 [==============================] - 38s 6ms/step - loss: 0.0355 - accuracy: 0.9896 - val_loss: 0.0833 - val_accuracy: 0.9749\n",
            "Epoch 45/55\n",
            "6000/6000 [==============================] - 36s 6ms/step - loss: 0.0333 - accuracy: 0.9901 - val_loss: 0.0855 - val_accuracy: 0.9748\n",
            "Epoch 46/55\n",
            "6000/6000 [==============================] - 37s 6ms/step - loss: 0.0330 - accuracy: 0.9910 - val_loss: 0.0847 - val_accuracy: 0.9739\n",
            "Epoch 47/55\n",
            "6000/6000 [==============================] - 36s 6ms/step - loss: 0.0319 - accuracy: 0.9905 - val_loss: 0.0811 - val_accuracy: 0.9771\n",
            "Epoch 48/55\n",
            "6000/6000 [==============================] - 37s 6ms/step - loss: 0.0311 - accuracy: 0.9909 - val_loss: 0.0824 - val_accuracy: 0.9755\n",
            "Epoch 49/55\n",
            "6000/6000 [==============================] - 37s 6ms/step - loss: 0.0327 - accuracy: 0.9904 - val_loss: 0.0839 - val_accuracy: 0.9762\n",
            "Epoch 50/55\n",
            "6000/6000 [==============================] - 37s 6ms/step - loss: 0.0294 - accuracy: 0.9912 - val_loss: 0.0856 - val_accuracy: 0.9762\n",
            "Epoch 51/55\n",
            "6000/6000 [==============================] - 37s 6ms/step - loss: 0.0291 - accuracy: 0.9914 - val_loss: 0.0864 - val_accuracy: 0.9747\n",
            "Epoch 52/55\n",
            "6000/6000 [==============================] - 38s 6ms/step - loss: 0.0286 - accuracy: 0.9917 - val_loss: 0.0820 - val_accuracy: 0.9752\n",
            "Epoch 53/55\n",
            "6000/6000 [==============================] - 36s 6ms/step - loss: 0.0289 - accuracy: 0.9917 - val_loss: 0.0838 - val_accuracy: 0.9762\n",
            "Epoch 54/55\n",
            "6000/6000 [==============================] - 37s 6ms/step - loss: 0.0271 - accuracy: 0.9920 - val_loss: 0.0785 - val_accuracy: 0.9767\n",
            "Epoch 55/55\n",
            "6000/6000 [==============================] - 36s 6ms/step - loss: 0.0287 - accuracy: 0.9920 - val_loss: 0.0806 - val_accuracy: 0.9777\n"
          ]
        },
        {
          "output_type": "stream",
          "name": "stderr",
          "text": [
            "/usr/local/lib/python3.10/dist-packages/keras/src/engine/training.py:3103: UserWarning: You are saving your model as an HDF5 file via `model.save()`. This file format is considered legacy. We recommend using instead the native Keras format, e.g. `model.save('my_model.keras')`.\n",
            "  saving_api.save_model(\n"
          ]
        }
      ],
      "source": [
        "#sobreajuste\n",
        "import tensorflow as tf\n",
        "from tensorflow import keras as keras\n",
        "from keras.datasets import mnist\n",
        "from keras.models import Sequential\n",
        "from keras.layers import Dense, Dropout, Activation\n",
        "from keras. optimizers import Adam, RMSprop, SGD\n",
        "from keras.regularizers import L1, L2, L1L2\n",
        "import numpy as np\n",
        "import matplotlib.pyplot as plt\n",
        "from keras.callbacks import History\n",
        "\n",
        "dataset= mnist.load_data()\n",
        "(x_train, y_train), (x_test,y_test) = dataset #Son las variables separadas de los datos de entrenamiento y pruebas\n",
        "\n",
        "#Ahora aplanamos las imágenes y convertimos en punto flotante\n",
        "x_train = x_train.reshape(60000,784)\n",
        "x_test = x_test.reshape(10000,784)\n",
        "x_trainv = x_train.astype('float32')\n",
        "x_testv = x_test.astype('float32')\n",
        "\n",
        "lr = 0.001  #learning rate\n",
        "num_clases = 10\n",
        "y_trainc = keras.utils.to_categorical(y_train, num_clases)\n",
        "y_testc = keras.utils.to_categorical(y_test, num_clases)\n",
        "\n",
        "modelo_overfit = Sequential([\n",
        "    Dense(512, activation='sigmoid', input_shape=(784,)),\n",
        "    Dense(10, activation=\"softmax\")\n",
        "])\n",
        "\n",
        "modelo_overfit.compile(loss='categorical_crossentropy',optimizer=Adam(learning_rate=1e-4),metrics=['accuracy'])\n",
        "history = modelo_overfit.fit(x_trainv, y_trainc, batch_size = 10, epochs = 55, validation_data = (x_testv, y_testc))\n",
        "modelo_overfit.save(\"modelo_overfit.h5\")"
      ]
    },
    {
      "cell_type": "code",
      "source": [
        "import matplotlib.pyplot as plt\n",
        "from keras.callbacks import History\n",
        "\n",
        "# Assuming you have a history object from a previous training session\n",
        "plt.xlabel(\"# Epoca\")\n",
        "plt.ylabel(\"Perdida\")\n",
        "plt.plot(history.history[\"loss\"])"
      ],
      "metadata": {
        "colab": {
          "base_uri": "https://localhost:8080/",
          "height": 466
        },
        "id": "hnYmE7rOtyAZ",
        "outputId": "451eab89-3c37-4b77-f8df-2182338adca8"
      },
      "execution_count": 3,
      "outputs": [
        {
          "output_type": "execute_result",
          "data": {
            "text/plain": [
              "[<matplotlib.lines.Line2D at 0x7985f82bb400>]"
            ]
          },
          "metadata": {},
          "execution_count": 3
        },
        {
          "output_type": "display_data",
          "data": {
            "text/plain": [
              "<Figure size 640x480 with 1 Axes>"
            ],
            "image/png": "[encoded data removed]"
          },
          "metadata": {}
        }
      ]
    },
    {
      "cell_type": "code",
      "source": [
        "import matplotlib.pyplot as plt\n",
        "image = x_train[5].reshape((28, 28))\n",
        "plt.figure()\n",
        "plt.imshow(image, cmap=\"gray\")#número de imagen en el mnist\n",
        "plt.colorbar()\n",
        "plt.grid(False)\n",
        "plt.show()"
      ],
      "metadata": {
        "colab": {
          "base_uri": "https://localhost:8080/",
          "height": 430
        },
        "id": "bkHY_eBBt05D",
        "outputId": "b3cf376a-209d-4d3c-e64c-75bd03dad541"
      },
      "execution_count": 4,
      "outputs": [
        {
          "output_type": "display_data",
          "data": {
            "text/plain": [
              "<Figure size 640x480 with 2 Axes>"
            ],
            "image/png": "[encoded data removed]"
          },
          "metadata": {}
        }
      ]
    },
    {
      "cell_type": "code",
      "source": [
        "score = modelo_overfit.evaluate(x_testv, y_testc, verbose=1) #evaluar la eficiencia del modelo\n",
        "print(score)\n",
        "a=modelo_overfit.predict(x_testv) #predicción de la red entrenada\n",
        "print(a.shape)\n",
        "print(a[1])\n",
        "print(\"resultado correcto:\")\n",
        "print(y_testc[1])"
      ],
      "metadata": {
        "colab": {
          "base_uri": "https://localhost:8080/"
        },
        "id": "l2FP8OEOt3Ih",
        "outputId": "4bacb26e-f723-40e6-ed43-078281c43fa7"
      },
      "execution_count": 5,
      "outputs": [
        {
          "output_type": "stream",
          "name": "stdout",
          "text": [
            "313/313 [==============================] - 1s 3ms/step - loss: 0.0806 - accuracy: 0.9777\n",
            "[0.0806398019194603, 0.9776999950408936]\n",
            "313/313 [==============================] - 1s 2ms/step\n",
            "(10000, 10)\n",
            "[9.4933831e-08 6.8765854e-07 9.9999839e-01 6.1345156e-07 3.7048919e-12\n",
            " 4.5315002e-08 5.0817985e-09 6.7661640e-11 1.1958993e-07 8.1233353e-10]\n",
            "resultado correcto:\n",
            "[0. 0. 1. 0. 0. 0. 0. 0. 0. 0.]\n"
          ]
        }
      ]
    }
  ]
}