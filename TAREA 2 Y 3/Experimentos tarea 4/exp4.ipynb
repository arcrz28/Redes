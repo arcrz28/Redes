{
  "nbformat": 4,
  "nbformat_minor": 0,
  "metadata": {
    "colab": {
      "provenance": []
    },
    "kernelspec": {
      "name": "python3",
      "display_name": "Python 3"
    },
    "language_info": {
      "name": "python"
    }
  },
  "cells": [
    {
      "cell_type": "code",
      "execution_count": 1,
      "metadata": {
        "colab": {
          "base_uri": "https://localhost:8080/"
        },
        "id": "RiGDWLj8n0FU",
        "outputId": "37b3e2fd-1f08-4105-b6e1-5db53795dcef"
      },
      "outputs": [
        {
          "output_type": "stream",
          "name": "stdout",
          "text": [
            "Downloading data from https://storage.googleapis.com/tensorflow/tf-keras-datasets/mnist.npz\n",
            "11490434/11490434 [==============================] - 0s 0us/step\n",
            "Epoch 1/30\n",
            "6000/6000 [==============================] - 27s 4ms/step - loss: 1.3690 - accuracy: 0.5858 - val_loss: 0.7742 - val_accuracy: 0.7310\n",
            "Epoch 2/30\n",
            "6000/6000 [==============================] - 14s 2ms/step - loss: 0.6153 - accuracy: 0.7840 - val_loss: 0.4545 - val_accuracy: 0.8830\n",
            "Epoch 3/30\n",
            "6000/6000 [==============================] - 14s 2ms/step - loss: 0.3425 - accuracy: 0.9109 - val_loss: 0.3263 - val_accuracy: 0.9124\n",
            "Epoch 4/30\n",
            "6000/6000 [==============================] - 15s 2ms/step - loss: 0.2632 - accuracy: 0.9321 - val_loss: 0.2717 - val_accuracy: 0.9268\n",
            "Epoch 5/30\n",
            "6000/6000 [==============================] - 13s 2ms/step - loss: 0.2301 - accuracy: 0.9399 - val_loss: 0.2286 - val_accuracy: 0.9416\n",
            "Epoch 6/30\n",
            "6000/6000 [==============================] - 14s 2ms/step - loss: 0.2058 - accuracy: 0.9463 - val_loss: 0.2191 - val_accuracy: 0.9461\n",
            "Epoch 7/30\n",
            "6000/6000 [==============================] - 13s 2ms/step - loss: 0.1922 - accuracy: 0.9498 - val_loss: 0.2251 - val_accuracy: 0.9423\n",
            "Epoch 8/30\n",
            "6000/6000 [==============================] - 14s 2ms/step - loss: 0.1760 - accuracy: 0.9525 - val_loss: 0.1911 - val_accuracy: 0.9510\n",
            "Epoch 9/30\n",
            "6000/6000 [==============================] - 14s 2ms/step - loss: 0.1676 - accuracy: 0.9550 - val_loss: 0.1881 - val_accuracy: 0.9517\n",
            "Epoch 10/30\n",
            "6000/6000 [==============================] - 14s 2ms/step - loss: 0.1592 - accuracy: 0.9571 - val_loss: 0.1775 - val_accuracy: 0.9526\n",
            "Epoch 11/30\n",
            "6000/6000 [==============================] - 14s 2ms/step - loss: 0.1537 - accuracy: 0.9590 - val_loss: 0.1906 - val_accuracy: 0.9501\n",
            "Epoch 12/30\n",
            "6000/6000 [==============================] - 13s 2ms/step - loss: 0.1501 - accuracy: 0.9591 - val_loss: 0.1822 - val_accuracy: 0.9534\n",
            "Epoch 13/30\n",
            "6000/6000 [==============================] - 14s 2ms/step - loss: 0.1436 - accuracy: 0.9607 - val_loss: 0.1955 - val_accuracy: 0.9480\n",
            "Epoch 14/30\n",
            "6000/6000 [==============================] - 15s 3ms/step - loss: 0.1403 - accuracy: 0.9621 - val_loss: 0.2149 - val_accuracy: 0.9473\n",
            "Epoch 15/30\n",
            "6000/6000 [==============================] - 14s 2ms/step - loss: 0.1369 - accuracy: 0.9630 - val_loss: 0.1877 - val_accuracy: 0.9521\n",
            "Epoch 16/30\n",
            "6000/6000 [==============================] - 13s 2ms/step - loss: 0.1315 - accuracy: 0.9652 - val_loss: 0.1854 - val_accuracy: 0.9519\n",
            "Epoch 17/30\n",
            "6000/6000 [==============================] - 14s 2ms/step - loss: 0.1309 - accuracy: 0.9653 - val_loss: 0.2071 - val_accuracy: 0.9527\n",
            "Epoch 18/30\n",
            "6000/6000 [==============================] - 14s 2ms/step - loss: 0.1284 - accuracy: 0.9657 - val_loss: 0.1773 - val_accuracy: 0.9541\n",
            "Epoch 19/30\n",
            "6000/6000 [==============================] - 14s 2ms/step - loss: 0.1252 - accuracy: 0.9659 - val_loss: 0.1976 - val_accuracy: 0.9553\n",
            "Epoch 20/30\n",
            "6000/6000 [==============================] - 13s 2ms/step - loss: 0.1245 - accuracy: 0.9668 - val_loss: 0.2058 - val_accuracy: 0.9520\n",
            "Epoch 21/30\n",
            "6000/6000 [==============================] - 13s 2ms/step - loss: 0.1220 - accuracy: 0.9672 - val_loss: 0.1965 - val_accuracy: 0.9575\n",
            "Epoch 22/30\n",
            "6000/6000 [==============================] - 13s 2ms/step - loss: 0.1207 - accuracy: 0.9679 - val_loss: 0.2075 - val_accuracy: 0.9539\n",
            "Epoch 23/30\n",
            "6000/6000 [==============================] - 14s 2ms/step - loss: 0.1165 - accuracy: 0.9685 - val_loss: 0.2059 - val_accuracy: 0.9542\n",
            "Epoch 24/30\n",
            "6000/6000 [==============================] - 14s 2ms/step - loss: 0.1160 - accuracy: 0.9692 - val_loss: 0.2021 - val_accuracy: 0.9561\n",
            "Epoch 25/30\n",
            "6000/6000 [==============================] - 14s 2ms/step - loss: 0.1169 - accuracy: 0.9689 - val_loss: 0.2025 - val_accuracy: 0.9566\n",
            "Epoch 26/30\n",
            "6000/6000 [==============================] - 15s 3ms/step - loss: 0.1156 - accuracy: 0.9693 - val_loss: 0.2270 - val_accuracy: 0.9534\n",
            "Epoch 27/30\n",
            "6000/6000 [==============================] - 15s 2ms/step - loss: 0.1151 - accuracy: 0.9694 - val_loss: 0.1817 - val_accuracy: 0.9571\n",
            "Epoch 28/30\n",
            "6000/6000 [==============================] - 14s 2ms/step - loss: 0.1105 - accuracy: 0.9708 - val_loss: 0.2052 - val_accuracy: 0.9547\n",
            "Epoch 29/30\n",
            "6000/6000 [==============================] - 15s 3ms/step - loss: 0.1073 - accuracy: 0.9714 - val_loss: 0.2298 - val_accuracy: 0.9550\n",
            "Epoch 30/30\n",
            "6000/6000 [==============================] - 24s 4ms/step - loss: 0.1117 - accuracy: 0.9710 - val_loss: 0.2144 - val_accuracy: 0.9533\n"
          ]
        }
      ],
      "source": [
        "#Primero vamos a importar las librerías.\n",
        "import tensorflow as tf\n",
        "from tensorflow import keras as keras\n",
        "from keras.datasets import mnist\n",
        "from keras.models import Sequential\n",
        "from keras.layers import Dense, Dropout, Activation\n",
        "from keras. optimizers import Adam, RMSprop, SGD\n",
        "from keras.regularizers import L1, L2, L1L2\n",
        "import numpy as np\n",
        "\n",
        "\n",
        "dataset= mnist.load_data()\n",
        "(x_train, y_train), (x_test,y_test) = dataset #Son las variables separadas de los datos de entrenamiento y pruebas\n",
        "\n",
        "\n",
        "#Ahora aplanamos las imágenes y convertimos en punto flotante\n",
        "x_train = x_train.reshape(60000,784)\n",
        "x_test = x_test.reshape(10000,784)\n",
        "x_trainv = x_train.astype('float32')\n",
        "x_testv = x_test.astype('float32')\n",
        "\n",
        "lr = 0.001  #learning rate\n",
        "num_clases = 10\n",
        "y_trainc = keras.utils.to_categorical(y_train, num_clases)\n",
        "y_testc = keras.utils.to_categorical(y_test, num_clases)\n",
        "exp4 = Sequential([\n",
        "    Dense(30, activation='relu', input_shape=(784,)),\n",
        "    Dense(30, activation='relu'),\n",
        "    Dense(10, activation='relu'),\n",
        "    Dense(10,activation='softmax')\n",
        "      ])\n",
        "exp4.compile(loss='categorical_crossentropy', optimizer=Adam(learning_rate=lr), metrics=['accuracy'])\n",
        "history = exp4.fit(x_trainv, y_trainc, batch_size = 10, epochs = 30, verbose=1, validation_data=(x_testv, y_testc))"
      ]
    },
    {
      "cell_type": "code",
      "source": [
        "import matplotlib.pyplot as plt\n",
        "from keras.callbacks import History\n",
        "\n",
        "# Assuming you have a history object from a previous training session\n",
        "plt.xlabel(\"# Epoca\")\n",
        "plt.ylabel(\"Perdida\")\n",
        "plt.plot(history.history[\"loss\"])"
      ],
      "metadata": {
        "colab": {
          "base_uri": "https://localhost:8080/",
          "height": 466
        },
        "id": "hrs664NMoASJ",
        "outputId": "72d2c61e-34d4-46e2-a1a5-a5de243ca66b"
      },
      "execution_count": 2,
      "outputs": [
        {
          "output_type": "execute_result",
          "data": {
            "text/plain": [
              "[<matplotlib.lines.Line2D at 0x7c37ef4cbc10>]"
            ]
          },
          "metadata": {},
          "execution_count": 2
        },
        {
          "output_type": "display_data",
          "data": {
            "text/plain": [
              "<Figure size 640x480 with 1 Axes>"
            ],
            "image/png": "[encoded data removed]"
          },
          "metadata": {}
        }
      ]
    },
    {
      "cell_type": "code",
      "source": [
        "import matplotlib.pyplot as plt\n",
        "image = x_train[5].reshape((28, 28))\n",
        "plt.figure()\n",
        "plt.imshow(image, cmap=\"gray\")#número de imagen en el mnist\n",
        "plt.colorbar()\n",
        "plt.grid(False)\n",
        "plt.show()"
      ],
      "metadata": {
        "colab": {
          "base_uri": "https://localhost:8080/",
          "height": 430
        },
        "id": "a84nmBi4oFqS",
        "outputId": "bfa9cb99-6718-4ebc-e288-8def08f53e34"
      },
      "execution_count": 3,
      "outputs": [
        {
          "output_type": "display_data",
          "data": {
            "text/plain": [
              "<Figure size 640x480 with 2 Axes>"
            ],
            "image/png": "[encoded data removed]"
          },
          "metadata": {}
        }
      ]
    },
    {
      "cell_type": "code",
      "source": [
        "score = exp4.evaluate(x_testv, y_testc, verbose=1) #evaluar la eficiencia del modelo\n",
        "print(score)\n",
        "a=exp4.predict(x_testv) #predicción de la red entrenada\n",
        "print(a.shape)\n",
        "print(a[1])\n",
        "print(\"resultado correcto:\")\n",
        "print(y_testc[1])"
      ],
      "metadata": {
        "colab": {
          "base_uri": "https://localhost:8080/"
        },
        "id": "Te3YP-M2oHiS",
        "outputId": "24547f9a-fb6f-4630-ea01-ff55fdba09c3"
      },
      "execution_count": 5,
      "outputs": [
        {
          "output_type": "stream",
          "name": "stdout",
          "text": [
            "313/313 [==============================] - 1s 3ms/step - loss: 0.2144 - accuracy: 0.9533\n",
            "[0.21438243985176086, 0.9532999992370605]\n",
            "313/313 [==============================] - 2s 5ms/step\n",
            "(10000, 10)\n",
            "[2.9843520e-07 1.9531863e-05 9.9849951e-01 8.7628578e-04 3.1371409e-04\n",
            " 9.0550447e-09 4.4883667e-08 5.9058959e-05 2.3114934e-04 4.5190870e-07]\n",
            "resultado correcto:\n",
            "[0. 0. 1. 0. 0. 0. 0. 0. 0. 0.]\n"
          ]
        }
      ]
    }
  ]
}