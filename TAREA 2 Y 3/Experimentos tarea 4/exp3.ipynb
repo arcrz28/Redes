{
  "nbformat": 4,
  "nbformat_minor": 0,
  "metadata": {
    "colab": {
      "provenance": []
    },
    "kernelspec": {
      "name": "python3",
      "display_name": "Python 3"
    },
    "language_info": {
      "name": "python"
    }
  },
  "cells": [
    {
      "cell_type": "code",
      "execution_count": 1,
      "metadata": {
        "colab": {
          "base_uri": "https://localhost:8080/"
        },
        "id": "0nGaXe9Zmeto",
        "outputId": "d3673831-ff1b-4c1c-ea8a-bfdc040061ac"
      },
      "outputs": [
        {
          "output_type": "stream",
          "name": "stdout",
          "text": [
            "Downloading data from https://storage.googleapis.com/tensorflow/tf-keras-datasets/mnist.npz\n",
            "11490434/11490434 [==============================] - 0s 0us/step\n",
            "Epoch 1/10\n",
            "6000/6000 [==============================] - 40s 6ms/step - loss: nan - accuracy: 0.1044 - val_loss: nan - val_accuracy: 0.0980\n",
            "Epoch 2/10\n",
            "6000/6000 [==============================] - 27s 4ms/step - loss: nan - accuracy: 0.0987 - val_loss: nan - val_accuracy: 0.0980\n",
            "Epoch 3/10\n",
            "6000/6000 [==============================] - 26s 4ms/step - loss: nan - accuracy: 0.0987 - val_loss: nan - val_accuracy: 0.0980\n",
            "Epoch 4/10\n",
            "6000/6000 [==============================] - 28s 5ms/step - loss: nan - accuracy: 0.0987 - val_loss: nan - val_accuracy: 0.0980\n",
            "Epoch 5/10\n",
            "6000/6000 [==============================] - 27s 5ms/step - loss: nan - accuracy: 0.0987 - val_loss: nan - val_accuracy: 0.0980\n",
            "Epoch 6/10\n",
            "6000/6000 [==============================] - 25s 4ms/step - loss: nan - accuracy: 0.0987 - val_loss: nan - val_accuracy: 0.0980\n",
            "Epoch 7/10\n",
            "6000/6000 [==============================] - 25s 4ms/step - loss: nan - accuracy: 0.0987 - val_loss: nan - val_accuracy: 0.0980\n",
            "Epoch 8/10\n",
            "6000/6000 [==============================] - 25s 4ms/step - loss: nan - accuracy: 0.0987 - val_loss: nan - val_accuracy: 0.0980\n",
            "Epoch 9/10\n",
            "6000/6000 [==============================] - 26s 4ms/step - loss: nan - accuracy: 0.0987 - val_loss: nan - val_accuracy: 0.0980\n",
            "Epoch 10/10\n",
            "6000/6000 [==============================] - 28s 5ms/step - loss: nan - accuracy: 0.0987 - val_loss: nan - val_accuracy: 0.0980\n"
          ]
        }
      ],
      "source": [
        "#Primero vamos a importar las librerías.\n",
        "import tensorflow as tf\n",
        "from tensorflow import keras as keras\n",
        "from keras.datasets import mnist\n",
        "from keras.models import Sequential\n",
        "from keras.layers import Dense, Dropout, Activation\n",
        "from keras. optimizers import Adam, RMSprop, SGD\n",
        "from keras.regularizers import L1, L2, L1L2\n",
        "import numpy as np\n",
        "\n",
        "\n",
        "dataset= mnist.load_data()\n",
        "(x_train, y_train), (x_test,y_test) = dataset #Son las variables separadas de los datos de entrenamiento y pruebas\n",
        "\n",
        "\n",
        "#Ahora aplanamos las imágenes y convertimos en punto flotante\n",
        "x_train = x_train.reshape(60000,784)\n",
        "x_test = x_test.reshape(10000,784)\n",
        "x_trainv = x_train.astype('float32')\n",
        "x_testv = x_test.astype('float32')\n",
        "\n",
        "lr = 0.001  #learning rate\n",
        "num_clases = 10\n",
        "y_trainc = keras.utils.to_categorical(y_train, num_clases)\n",
        "y_testc = keras.utils.to_categorical(y_test, num_clases)\n",
        "exp3 = Sequential([\n",
        "    Dense(256, activation='sigmoid', input_shape=(784,)),\n",
        "    Dense(50, activation='sigmoid'),\n",
        "    Dense(10, activation='softmax'),\n",
        "    Dense(10,activation='relu')\n",
        "      ])\n",
        "exp3.compile(loss='categorical_crossentropy', optimizer=Adam(learning_rate=lr), metrics=['accuracy'])\n",
        "history = exp3.fit(x_trainv, y_trainc, batch_size = 10, epochs = 10, verbose=1, validation_data=(x_testv, y_testc))"
      ]
    },
    {
      "cell_type": "code",
      "source": [
        "import matplotlib.pyplot as plt\n",
        "from keras.callbacks import History\n",
        "\n",
        "# Assuming you have a history object from a previous training session\n",
        "plt.xlabel(\"# Epoca\")\n",
        "plt.ylabel(\"Perdida\")\n",
        "plt.plot(history.history[\"loss\"])"
      ],
      "metadata": {
        "colab": {
          "base_uri": "https://localhost:8080/",
          "height": 466
        },
        "id": "BLOyeIqynOum",
        "outputId": "40880c7d-d725-4eb3-fb97-f3d2647c14bb"
      },
      "execution_count": 2,
      "outputs": [
        {
          "output_type": "execute_result",
          "data": {
            "text/plain": [
              "[<matplotlib.lines.Line2D at 0x7ff3889ebd00>]"
            ]
          },
          "metadata": {},
          "execution_count": 2
        },
        {
          "output_type": "display_data",
          "data": {
            "text/plain": [
              "<Figure size 640x480 with 1 Axes>"
            ],
            "image/png": "[encoded data removed]"
          },
          "metadata": {}
        }
      ]
    },
    {
      "cell_type": "code",
      "source": [
        "import matplotlib.pyplot as plt\n",
        "image = x_train[5].reshape((28, 28))\n",
        "plt.figure()\n",
        "plt.imshow(image, cmap=\"gray\")#número de imagen en el mnist\n",
        "plt.colorbar()\n",
        "plt.grid(False)\n",
        "plt.show()"
      ],
      "metadata": {
        "colab": {
          "base_uri": "https://localhost:8080/",
          "height": 430
        },
        "id": "8aiR7Zs0nRr2",
        "outputId": "7d607a52-4b06-4af0-aaaa-7f3787d8bed2"
      },
      "execution_count": 3,
      "outputs": [
        {
          "output_type": "display_data",
          "data": {
            "text/plain": [
              "<Figure size 640x480 with 2 Axes>"
            ],
            "image/png": "[encoded data removed]"
          },
          "metadata": {}
        }
      ]
    },
    {
      "cell_type": "code",
      "source": [
        "score = exp3.evaluate(x_testv, y_testc, verbose=1) #evaluar la eficiencia del modelo\n",
        "print(score)\n",
        "a=exp3.predict(x_testv) #predicción de la red entrenada\n",
        "print(a.shape)\n",
        "print(a[1])\n",
        "print(\"resultado correcto:\")\n",
        "print(y_testc[1])"
      ],
      "metadata": {
        "colab": {
          "base_uri": "https://localhost:8080/"
        },
        "id": "pNOCB80vnrqX",
        "outputId": "3bde5c14-44ec-49af-88ab-4235d919fcc5"
      },
      "execution_count": 4,
      "outputs": [
        {
          "output_type": "stream",
          "name": "stdout",
          "text": [
            "313/313 [==============================] - 2s 4ms/step - loss: nan - accuracy: 0.0980\n",
            "[nan, 0.09799999743700027]\n",
            "313/313 [==============================] - 1s 4ms/step\n",
            "(10000, 10)\n",
            "[nan nan nan nan nan nan nan nan nan nan]\n",
            "resultado correcto:\n",
            "[0. 0. 1. 0. 0. 0. 0. 0. 0. 0.]\n"
          ]
        }
      ]
    }
  ]
}